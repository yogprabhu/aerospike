{
 "cells": [
  {
   "cell_type": "markdown",
   "metadata": {},
   "source": [
    "## What is Aerospike?"
   ]
  },
  {
   "cell_type": "raw",
   "metadata": {},
   "source": [
    "Aerospike is an enterprise-class, NoSQL database solution delivering performance at scale, superior uptime, and high availability at the lowest TCO (Total Cost of Ownership) compared to first-generation NoSQL or relational databases. \n",
    "\n",
    "Aerospike was purpose-built with a highly parallelized architecture to support real-time, Big Data-driven applications that cost-effectively scale up and out. Aerospike can run in pure RAM, but is the first to be uniquely optimized for use with solid-state hard drives (SSDs). \n",
    "For low latency, Aerospike indexes are always stored in RAM, but individual tables or namespaces in Aerospike can be stored in either RAM or directly on SSDs, and data on SSDs is accessed in parallel via a proprietary flash-optimized log structured file system."
   ]
  },
  {
   "cell_type": "markdown",
   "metadata": {},
   "source": [
    "## Advantages"
   ]
  },
  {
   "cell_type": "raw",
   "metadata": {},
   "source": [
    "-Optimized for use with SSDs (solid-state hard drives)\n",
    "-Scales horizontally and vertically\n",
    "-Auto-sharding & auto-healing"
   ]
  },
  {
   "cell_type": "markdown",
   "metadata": {},
   "source": [
    "## Application Scenarios"
   ]
  },
  {
   "cell_type": "raw",
   "metadata": {},
   "source": [
    "-Aerospike excels in mission-critical applications that have mixed read/write workloads and in scenarios that require speed at scale. \n",
    "-Because of its design, Aerospike is often used as a persistent cache and a user store to address real-time data collection, distribution and analysis requirements common to certain Internet-centric businesses."
   ]
  },
  {
   "cell_type": "markdown",
   "metadata": {},
   "source": [
    "## Licensing"
   ]
  },
  {
   "cell_type": "raw",
   "metadata": {},
   "source": [
    "1.  Free, open-sourced COMMUNITY EDITION\n",
    "2. Subscription-based Enterprise Edition"
   ]
  },
  {
   "cell_type": "markdown",
   "metadata": {},
   "source": [
    "## Downloads"
   ]
  },
  {
   "cell_type": "raw",
   "metadata": {},
   "source": [
    "COMMUNITY EDITION : https://www.aerospike.com/download/server/\n",
    "AMC (aerospike management console) : https://www.aerospike.com/download/amc/\n",
    "PYTHON CLIENT : pip install aerospike"
   ]
  },
  {
   "cell_type": "markdown",
   "metadata": {},
   "source": [
    "## Installation aerospike"
   ]
  },
  {
   "cell_type": "raw",
   "metadata": {},
   "source": [
    "LINK: https://www.aerospike.com/docs/operations/install/linux/ubuntu\n",
    "\n",
    "\n",
    "COMMANDS:\n",
    "\n",
    "wget -O aerospike.tgz 'https://www.aerospike.com/download/server/latest/artifact/ubuntu18'\n",
    "tar -xvf aerospike.tgz\n",
    "cd aerospike-community-ubuntu18\n",
    "sudo ./asinstall # will install the .deb packages"
   ]
  },
  {
   "cell_type": "markdown",
   "metadata": {},
   "source": [
    "## Firewall setup"
   ]
  },
  {
   "cell_type": "raw",
   "metadata": {},
   "source": [
    "Allowing PORT:3000 incoming in firewall\n",
    "LINK: https://www.aerospike.com/docs/operations/configure/network/\n",
    "\n",
    "COMMANDS:\n",
    "\n",
    "sudo ufw allow in on eth1 to any port 3000 proto tcp"
   ]
  },
  {
   "cell_type": "markdown",
   "metadata": {},
   "source": [
    "## START aerospike"
   ]
  },
  {
   "cell_type": "raw",
   "metadata": {},
   "source": [
    "sudo systemctl start aerospike"
   ]
  },
  {
   "cell_type": "markdown",
   "metadata": {},
   "source": [
    "## check STATUS"
   ]
  },
  {
   "cell_type": "raw",
   "metadata": {},
   "source": [
    "sudo systemctl status aerospike"
   ]
  },
  {
   "cell_type": "markdown",
   "metadata": {},
   "source": [
    "## STOP aerospike"
   ]
  },
  {
   "cell_type": "raw",
   "metadata": {},
   "source": [
    "sudo systemctl stop aerospike"
   ]
  },
  {
   "cell_type": "markdown",
   "metadata": {},
   "source": [
    "## Installation AMC (aerospike management console)"
   ]
  },
  {
   "cell_type": "raw",
   "metadata": {},
   "source": [
    "cd to directory of amc.deb file\n",
    "\n",
    "COMMAND:\n",
    "sudo dpkg -i amc.deb"
   ]
  },
  {
   "cell_type": "markdown",
   "metadata": {},
   "source": [
    "## START AMC"
   ]
  },
  {
   "cell_type": "raw",
   "metadata": {},
   "source": [
    "COMMAND: \n",
    "sudo /etc/init.d/amc start\n",
    "\n",
    "LAUNCH (from browser): IP:8081"
   ]
  },
  {
   "cell_type": "markdown",
   "metadata": {},
   "source": [
    "## Configuration of namespace in aerospike"
   ]
  },
  {
   "cell_type": "raw",
   "metadata": {},
   "source": [
    "PATH: /etc/aerospike/aerospike.conf"
   ]
  },
  {
   "cell_type": "markdown",
   "metadata": {},
   "source": [
    "## Aerospike-Python client"
   ]
  },
  {
   "cell_type": "markdown",
   "metadata": {},
   "source": [
    "## connecting"
   ]
  },
  {
   "cell_type": "code",
   "execution_count": 1,
   "metadata": {},
   "outputs": [
    {
     "data": {
      "text/plain": [
       "<aerospike.Client at 0x276dfb0>"
      ]
     },
     "execution_count": 1,
     "metadata": {},
     "output_type": "execute_result"
    }
   ],
   "source": [
    "import aerospike\n",
    "\n",
    "# configuration for client\n",
    "config = {\n",
    "    'hosts': [\n",
    "        ( '127.0.0.1', 3000 )\n",
    "    ],\n",
    "    'policies': {\n",
    "        'timeout': 1000 # milliseconds\n",
    "    }\n",
    "}\n",
    "\n",
    "# creating client\n",
    "client = aerospike.client(config)\n",
    "\n",
    "# connecting to cluster\n",
    "client.connect()\n"
   ]
  },
  {
   "cell_type": "raw",
   "metadata": {},
   "source": [
    "SYNTAX of KEY\n",
    "(key, metadata, bins)= client.get((namespace, set, key), policy)\n",
    "print (key)\n",
    "print (metadata)\n",
    "print (bins)"
   ]
  },
  {
   "cell_type": "markdown",
   "metadata": {},
   "source": [
    "## define key"
   ]
  },
  {
   "cell_type": "code",
   "execution_count": 9,
   "metadata": {},
   "outputs": [],
   "source": [
    "# Key of the record\n",
    "key = ('test', 'demo', 'foo')"
   ]
  },
  {
   "cell_type": "markdown",
   "metadata": {},
   "source": [
    "## WRITE VALUES"
   ]
  },
  {
   "cell_type": "markdown",
   "metadata": {},
   "source": [
    "## primary key = bender"
   ]
  },
  {
   "cell_type": "code",
   "execution_count": 54,
   "metadata": {},
   "outputs": [
    {
     "data": {
      "text/plain": [
       "0"
      ]
     },
     "execution_count": 54,
     "metadata": {},
     "output_type": "execute_result"
    }
   ],
   "source": [
    "# record insert 1\n",
    "key = ('test', 'characters', 'bender')\n",
    "\n",
    "# The record data to write to the cluster\n",
    "bins = {'name': 'Bender',\n",
    " 'serialnum': 2716057,\n",
    " 'lastsentence': {'ltWGY': 'Into the breach, meatbags. Or not, whatever',\n",
    "  'BG': 'Whip harder, Professor!',\n",
    "  'BBS': \"Well, we're boned\",\n",
    "  'TBwaBB': 'I love you, meatbags!'},\n",
    " 'composition': ['40% zinc', '40% titanium', '30% iron', '40% dolomite'],\n",
    " 'apartment': bytearray(b'$'),\n",
    " 'quote_cnt': 47}\n",
    "# Put the record to the database.\n",
    "client.put(key, bins)"
   ]
  },
  {
   "cell_type": "code",
   "execution_count": 63,
   "metadata": {},
   "outputs": [
    {
     "data": {
      "text/plain": [
       "{'name': 'Bender',\n",
       " 'serialnum': 2716057,\n",
       " 'lastsentence': {'ltWGY': 'Into the breach, meatbags. Or not, whatever',\n",
       "  'BG': 'Whip harder, Professor!',\n",
       "  'BBS': \"Well, we're boned\",\n",
       "  'TBwaBB': 'I love you, meatbags!'},\n",
       " 'composition': ['40% zinc', '40% titanium', '30% iron', '40% dolomite'],\n",
       " 'apartment': bytearray(b'$'),\n",
       " 'quote_cnt': 47}"
      ]
     },
     "execution_count": 63,
     "metadata": {},
     "output_type": "execute_result"
    }
   ],
   "source": [
    "key = ('test', 'characters', 'bender')\n",
    "(key, meta, bins) = client.get(key)\n",
    "bins"
   ]
  },
  {
   "cell_type": "markdown",
   "metadata": {},
   "source": [
    "## primary key = bender2"
   ]
  },
  {
   "cell_type": "code",
   "execution_count": 57,
   "metadata": {},
   "outputs": [
    {
     "data": {
      "text/plain": [
       "0"
      ]
     },
     "execution_count": 57,
     "metadata": {},
     "output_type": "execute_result"
    }
   ],
   "source": [
    "# record insert 2\n",
    "key = ('test', 'characters', 'bender2')\n",
    "\n",
    "# The record data to write to the cluster\n",
    "bins = {\n",
    "  'name': 'Bender2',\n",
    "  'serialnum': '057',\n",
    "  'composition': [ \"40% zinc\", \"40% titanium\", \"30% iron\", \"40% dolomite\" ],\n",
    "  'apartment': bytearray(b'\\x24'),\n",
    "  'quote_cnt': 47\n",
    "}\n",
    "# Put the record to the database.\n",
    "client.put(key, bins)"
   ]
  },
  {
   "cell_type": "code",
   "execution_count": 62,
   "metadata": {
    "scrolled": true
   },
   "outputs": [
    {
     "data": {
      "text/plain": [
       "{'name': 'Bender2',\n",
       " 'serialnum': '057',\n",
       " 'composition': ['40% zinc', '40% titanium', '30% iron', '40% dolomite'],\n",
       " 'apartment': bytearray(b'$'),\n",
       " 'quote_cnt': 47}"
      ]
     },
     "execution_count": 62,
     "metadata": {},
     "output_type": "execute_result"
    }
   ],
   "source": [
    "key2 = ('test', 'characters', 'bender2')\n",
    "(key, meta, bins) = client.get(key2)\n",
    "\n",
    "bins"
   ]
  },
  {
   "cell_type": "markdown",
   "metadata": {},
   "source": [
    "## prepend"
   ]
  },
  {
   "cell_type": "code",
   "execution_count": 72,
   "metadata": {
    "scrolled": true
   },
   "outputs": [
    {
     "data": {
      "text/plain": [
       "{'name': 'Dr. Dr. Dr. Dr. Bender',\n",
       " 'serialnum': 2716057,\n",
       " 'lastsentence': {'ltWGY': 'Into the breach, meatbags. Or not, whatever',\n",
       "  'BG': 'Whip harder, Professor!',\n",
       "  'BBS': \"Well, we're boned\",\n",
       "  'TBwaBB': 'I love you, meatbags!'},\n",
       " 'composition': ['40% zinc', '40% titanium', '30% iron', '40% dolomite'],\n",
       " 'apartment': bytearray(b'$'),\n",
       " 'quote_cnt': 47}"
      ]
     },
     "execution_count": 72,
     "metadata": {},
     "output_type": "execute_result"
    }
   ],
   "source": [
    "key1 = ('test', 'characters', 'bender')\n",
    "client.prepend(key1, 'name', 'Dr. ')\n",
    "(key, meta, bins) = client.get(key1)\n",
    "bins"
   ]
  },
  {
   "cell_type": "markdown",
   "metadata": {},
   "source": [
    "## append"
   ]
  },
  {
   "cell_type": "code",
   "execution_count": 73,
   "metadata": {},
   "outputs": [
    {
     "data": {
      "text/plain": [
       "{'name': 'Dr. Dr. Dr. Dr. BenderJose',\n",
       " 'serialnum': 2716057,\n",
       " 'lastsentence': {'ltWGY': 'Into the breach, meatbags. Or not, whatever',\n",
       "  'BG': 'Whip harder, Professor!',\n",
       "  'BBS': \"Well, we're boned\",\n",
       "  'TBwaBB': 'I love you, meatbags!'},\n",
       " 'composition': ['40% zinc', '40% titanium', '30% iron', '40% dolomite'],\n",
       " 'apartment': bytearray(b'$'),\n",
       " 'quote_cnt': 47}"
      ]
     },
     "execution_count": 73,
     "metadata": {},
     "output_type": "execute_result"
    }
   ],
   "source": [
    "key1 = ('test', 'characters', 'bender')\n",
    "client.append(key1, 'name', 'Jose')\n",
    "(key, meta, bins) = client.get(key1)\n",
    "bins"
   ]
  },
  {
   "cell_type": "markdown",
   "metadata": {},
   "source": [
    "## increment integer"
   ]
  },
  {
   "cell_type": "code",
   "execution_count": 74,
   "metadata": {},
   "outputs": [],
   "source": [
    "# client.increment(key, 'quote_cnt', 3, meta={'ttl':meta['ttl']})"
   ]
  },
  {
   "cell_type": "markdown",
   "metadata": {},
   "source": [
    "## READ VALUES"
   ]
  },
  {
   "cell_type": "code",
   "execution_count": 86,
   "metadata": {},
   "outputs": [
    {
     "name": "stdout",
     "output_type": "stream",
     "text": [
      "Dr. Dr. Dr. Dr. BenderJose\n"
     ]
    }
   ],
   "source": [
    "# Retrieve the record using the key.\n",
    "(key, meta, bins) = client.get(('test','characters','bender'))\n",
    "# print(key)\n",
    "# print(bins)\n",
    "print(bins.get('name'))"
   ]
  },
  {
   "cell_type": "code",
   "execution_count": 89,
   "metadata": {},
   "outputs": [],
   "source": [
    "(key, meta, bins) = client.get(('test','demo','foo'))"
   ]
  },
  {
   "cell_type": "code",
   "execution_count": 90,
   "metadata": {},
   "outputs": [
    {
     "data": {
      "text/plain": [
       "{'name': 'John Doe', 'age': 32}"
      ]
     },
     "execution_count": 90,
     "metadata": {},
     "output_type": "execute_result"
    }
   ],
   "source": [
    "bins"
   ]
  },
  {
   "cell_type": "markdown",
   "metadata": {},
   "source": [
    "## check if Exist"
   ]
  },
  {
   "cell_type": "code",
   "execution_count": 106,
   "metadata": {},
   "outputs": [],
   "source": [
    "# Retrieve the record using the key.\n",
    "key1 = ('test', 'characters', 'bender2')\n",
    "(key, meta) = client.exists(key1)\n",
    "\n",
    "if(meta):\n",
    "    print('True')\n",
    "else:\n",
    "    print('False')"
   ]
  },
  {
   "cell_type": "markdown",
   "metadata": {},
   "source": [
    "## Running Batch Operations"
   ]
  },
  {
   "cell_type": "code",
   "execution_count": 109,
   "metadata": {},
   "outputs": [],
   "source": [
    "keys = []\n",
    "key1 = ('test', 'characters', 'bender')\n",
    "key2 = ('test', 'characters', 'bender2')\n",
    "keys.append(key1)\n",
    "keys.append(key2)"
   ]
  },
  {
   "cell_type": "code",
   "execution_count": 111,
   "metadata": {},
   "outputs": [],
   "source": [
    "records = client.get_many(keys)\n",
    "records[0][2].get('name')"
   ]
  },
  {
   "cell_type": "markdown",
   "metadata": {},
   "source": [
    "## Exists_many"
   ]
  },
  {
   "cell_type": "code",
   "execution_count": 3,
   "metadata": {},
   "outputs": [],
   "source": [
    "keys = []\n",
    "key1 = ('test', 'characters', 'bender1')\n",
    "key2 = ('test', 'characters', 'bender2')\n",
    "keys.append(key1)\n",
    "keys.append(key2)"
   ]
  },
  {
   "cell_type": "code",
   "execution_count": 2,
   "metadata": {},
   "outputs": [],
   "source": [
    "records = client.exists_many(keys)\n",
    "\n",
    "for i in range(0,len(records)):\n",
    "    if(records[i][1] != None):\n",
    "        print('Present')\n",
    "    else:\n",
    "        print('Absent')"
   ]
  },
  {
   "cell_type": "markdown",
   "metadata": {},
   "source": [
    "## Creating SCANS"
   ]
  },
  {
   "cell_type": "code",
   "execution_count": 145,
   "metadata": {},
   "outputs": [],
   "source": [
    "scan = client.scan('test', 'demo')"
   ]
  },
  {
   "cell_type": "code",
   "execution_count": 147,
   "metadata": {},
   "outputs": [],
   "source": [
    "cc = scan.select('name', 'age')"
   ]
  },
  {
   "cell_type": "code",
   "execution_count": null,
   "metadata": {},
   "outputs": [],
   "source": [
    "scan.foreach()"
   ]
  },
  {
   "cell_type": "markdown",
   "metadata": {},
   "source": [
    "## close() connection"
   ]
  },
  {
   "cell_type": "code",
   "execution_count": 151,
   "metadata": {},
   "outputs": [],
   "source": [
    "client.close()"
   ]
  }
 ],
 "metadata": {
  "kernelspec": {
   "display_name": "Python 3",
   "language": "python",
   "name": "python3"
  },
  "language_info": {
   "codemirror_mode": {
    "name": "ipython",
    "version": 3
   },
   "file_extension": ".py",
   "mimetype": "text/x-python",
   "name": "python",
   "nbconvert_exporter": "python",
   "pygments_lexer": "ipython3",
   "version": "3.6.7"
  }
 },
 "nbformat": 4,
 "nbformat_minor": 2
}
